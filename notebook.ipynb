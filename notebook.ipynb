{
 "cells": [
  {
   "cell_type": "code",
   "execution_count": 1,
   "metadata": {},
   "outputs": [],
   "source": [
    "from moccasin import setup_notebook\n",
    "\n",
    "setup_notebook()"
   ]
  },
  {
   "cell_type": "code",
   "execution_count": 2,
   "metadata": {},
   "outputs": [
    {
     "name": "stdout",
     "output_type": "stream",
     "text": [
      "eth-forked\n"
     ]
    }
   ],
   "source": [
    "from moccasin.config import get_active_network\n",
    "\n",
    "active_network = get_active_network()\n",
    "print(active_network.name)\n"
   ]
  },
  {
   "cell_type": "code",
   "execution_count": 3,
   "metadata": {},
   "outputs": [
    {
     "name": "stdout",
     "output_type": "stream",
     "text": [
      "0xf39Fd6e51aad88F6F4ce6aB8827279cffFb92266 this is the address\n",
      "hello\n",
      "Starting setup script...\n",
      "Starting balance of WETH: 0\n",
      "Starting balance of USDC: 0\n",
      "mint the usdc\n",
      "Ending balance of WETH: 1000000000000000000\n",
      "Ending balance of USDC: 100000000\n"
     ]
    }
   ],
   "source": [
    "from boa.contracts.abi.abi_contract import ABIContract\n",
    "from typing import Tuple\n",
    "from moccasin.config import get_active_network\n",
    "import boa\n",
    "\n",
    "STARTING_ETH_BALANCE = int(1000e18)\n",
    "STARTING_WETH_BALANCE = int(1e18)\n",
    "STARTING_USDC_BALANCE = int(100e6)\n",
    "\n",
    "def _add_eth_balance():\n",
    "    boa.env.set_balance(boa.env.eoa, STARTING_ETH_BALANCE)\n",
    "    \n",
    "def _add_token_balance(usdc, weth):\n",
    "    print(f\"Starting balance of WETH: {weth.balanceOf(boa.env.eoa)}\")\n",
    "    print(f\"Starting balance of USDC: {usdc.balanceOf(boa.env.eoa)}\")\n",
    "    weth.deposit(value = STARTING_WETH_BALANCE)\n",
    "    our_address = boa.env.eoa\n",
    "    with boa.env.prank(usdc.owner()):\n",
    "        usdc.updateMasterMinter(our_address)\n",
    "    usdc.configureMinter(\n",
    "        our_address, STARTING_USDC_BALANCE\n",
    "    )\n",
    "    print(\"mint the usdc\")\n",
    "    usdc.mint(our_address, STARTING_USDC_BALANCE)\n",
    "    print(f\"Ending balance of WETH: {weth.balanceOf(boa.env.eoa)}\")\n",
    "    print(f\"Ending balance of USDC: {usdc.balanceOf(boa.env.eoa)}\")\n",
    "\n",
    "def setup_script() -> Tuple[ABIContract,ABIContract,ABIContract,ABIContract]:\n",
    "    print(\"Starting setup script...\")\n",
    "    \n",
    "    #1. Give ourselves some ETH\n",
    "    #2. Give ourselves some USDC and WETH\n",
    "    active_network = get_active_network()\n",
    "    \n",
    "    usdc = active_network.manifest_named(\"usdc\")\n",
    "    weth = active_network.manifest_named(\"weth\")\n",
    "    \n",
    "    if active_network.is_local_or_forked_network():\n",
    "        _add_eth_balance()\n",
    "        _add_token_balance(usdc, weth)\n",
    "        \n",
    "    \n",
    "def moccasin_main():\n",
    "    our_address = boa.env.eoa\n",
    "    print(our_address,\"this is the address\")\n",
    "    print(\"hello\")\n",
    "    setup_script()\n",
    "    \n",
    "moccasin_main()"
   ]
  },
  {
   "cell_type": "code",
   "execution_count": 4,
   "metadata": {},
   "outputs": [],
   "source": [
    "usdc = active_network.manifest_named(\"usdc\")\n",
    "weth = active_network.manifest_named(\"weth\")\n",
    "\n"
   ]
  },
  {
   "cell_type": "code",
   "execution_count": 5,
   "metadata": {},
   "outputs": [
    {
     "data": {
      "text/plain": [
       "1000000000000000000"
      ]
     },
     "execution_count": 5,
     "metadata": {},
     "output_type": "execute_result"
    }
   ],
   "source": [
    "usdc.balanceOf(boa.env.eoa)\n",
    "weth.balanceOf(boa.env.eoa)"
   ]
  },
  {
   "cell_type": "code",
   "execution_count": 6,
   "metadata": {},
   "outputs": [
    {
     "name": "stdout",
     "output_type": "stream",
     "text": [
      "0x87870Bca3F3fD6335C3F4ce8392D69350B4fA4E2\n",
      "<pool interface at 0x87870Bca3F3fD6335C3F4ce8392D69350B4fA4E2>\n"
     ]
    }
   ],
   "source": [
    "from moccasin.config import get_or_initialize_config\n",
    " \n",
    "config = get_or_initialize_config()\n",
    "config.reload()\n",
    "\n",
    "active_network = config.get_active_network()\n",
    "aavev3_pool_address_provider = active_network.manifest_named(\"aavev3_pool_address_provider\")\n",
    "pool_address = aavev3_pool_address_provider.getPool()\n",
    "print(pool_address)\n",
    "\n",
    "config.reload()\n",
    "active_network = config.get_active_network()\n",
    "pool_contract = active_network.manifest_named(\"pool\", address = pool_address)\n",
    "print(pool_contract)\n"
   ]
  },
  {
   "cell_type": "code",
   "execution_count": 7,
   "metadata": {},
   "outputs": [
    {
     "name": "stdout",
     "output_type": "stream",
     "text": [
      "Depositing USD Coin into Aave contract 0x87870Bca3F3fD6335C3F4ce8392D69350B4fA4E2\n",
      "Depositing Wrapped Ether into Aave contract 0x87870Bca3F3fD6335C3F4ce8392D69350B4fA4E2\n",
      "User account data:\n",
      "        totalCollateralBase: 205779500000\n",
      "        totalDebtBase: 0\n",
      "        availableBorrowsBase: 165096892850\n",
      "        currentLiquidationThreshold: 8275\n",
      "        ltv: 8023\n",
      "        healthFactor: 115792089237316195423570985008687907853269984665640564039457584007913129639935\n",
      "          \n"
     ]
    }
   ],
   "source": [
    "REFERRAL_CODE=0\n",
    "def deposit(pool_contract, token, amount):\n",
    "    allowed_amount = token.allowance(boa.env.eoa, pool_contract.address)\n",
    "    if allowed_amount < amount:\n",
    "        token.approve(pool_contract.address , amount)\n",
    "    print(f\"Depositing {token.name()} into Aave contract {pool_contract.address}\")\n",
    "    pool_contract.supply(token.address, amount, boa.env.eoa, REFERRAL_CODE)\n",
    "    \n",
    "usdc_balance = usdc.balanceOf(boa.env.eoa)\n",
    "weth_balance = weth.balanceOf(boa.env.eoa)\n",
    "\n",
    "if usdc_balance >0:\n",
    "    deposit(pool_contract, usdc, usdc_balance)\n",
    "    \n",
    "if weth_balance > 0:\n",
    "    deposit(pool_contract, weth, weth_balance)\n",
    "(\n",
    "totalCollateralBase,\n",
    "        totalDebtBase,\n",
    "        availableBorrowsBase,\n",
    "        currentLiquidationThreshold,\n",
    "        ltv,\n",
    "        healthFactor,\n",
    "    ) = pool_contract.getUserAccountData(boa.env.eoa)\n",
    "print(f\"\"\"User account data:\n",
    "        totalCollateralBase: {totalCollateralBase}\n",
    "        totalDebtBase: {totalDebtBase}\n",
    "        availableBorrowsBase: {availableBorrowsBase}\n",
    "        currentLiquidationThreshold: {currentLiquidationThreshold}\n",
    "        ltv: {ltv}\n",
    "        healthFactor: {healthFactor}\n",
    "          \"\"\")\n",
    " "
   ]
  },
  {
   "cell_type": "code",
   "execution_count": 8,
   "metadata": {},
   "outputs": [
    {
     "name": "stdout",
     "output_type": "stream",
     "text": [
      "[getAllATokens(symbol='aEthWETH', tokenAddress=Address('0x4d5F47FA6A74757f35C14fD3a6Ef8E3C9BC514E8')), getAllATokens(symbol='aEthwstETH', tokenAddress=Address('0x0B925eD163218f6662a35e0f0371Ac234f9E9371')), getAllATokens(symbol='aEthWBTC', tokenAddress=Address('0x5Ee5bf7ae06D1Be5997A1A72006FE6C607eC6DE8')), getAllATokens(symbol='aEthUSDC', tokenAddress=Address('0x98C23E9d8f34FEFb1B7BD6a91B7FF122F4e16F5c')), getAllATokens(symbol='aEthDAI', tokenAddress=Address('0x018008bfb33d285247A21d44E50697654f754e63')), getAllATokens(symbol='aEthLINK', tokenAddress=Address('0x5E8C8A7243651DB1384C0dDfDbE39761E8e7E51a')), getAllATokens(symbol='aEthAAVE', tokenAddress=Address('0xA700b4eB416Be35b2911fd5Dee80678ff64fF6C9')), getAllATokens(symbol='aEthcbETH', tokenAddress=Address('0x977b6fc5dE62598B08C85AC8Cf2b745874E8b78c')), getAllATokens(symbol='aEthUSDT', tokenAddress=Address('0x23878914EFE38d27C4D67Ab83ed1b93A74D4086a')), getAllATokens(symbol='aEthrETH', tokenAddress=Address('0xCc9EE9483f662091a1de4795249E24aC0aC2630f')), getAllATokens(symbol='aEthLUSD', tokenAddress=Address('0x3Fe6a295459FAe07DF8A0ceCC36F37160FE86AA9')), getAllATokens(symbol='aEthCRV', tokenAddress=Address('0x7B95Ec873268a6BFC6427e7a28e396Db9D0ebc65')), getAllATokens(symbol='aEthMKR', tokenAddress=Address('0x8A458A9dc9048e005d22849F470891b840296619')), getAllATokens(symbol='aEthSNX', tokenAddress=Address('0xC7B4c17861357B8ABB91F25581E7263E08DCB59c')), getAllATokens(symbol='aEthBAL', tokenAddress=Address('0x2516E7B3F76294e03C42AA4c5b5b4DCE9C436fB8')), getAllATokens(symbol='aEthUNI', tokenAddress=Address('0xF6D2224916DDFbbab6e6bd0D1B7034f4Ae0CaB18')), getAllATokens(symbol='aEthLDO', tokenAddress=Address('0x9A44fd41566876A39655f74971a3A6eA0a17a454')), getAllATokens(symbol='aEthENS', tokenAddress=Address('0x545bD6c032eFdde65A377A6719DEF2796C8E0f2e')), getAllATokens(symbol='aEth1INCH', tokenAddress=Address('0x71Aef7b30728b9BB371578f36c5A1f1502a5723e')), getAllATokens(symbol='aEthFRAX', tokenAddress=Address('0xd4e245848d6E1220DBE62e155d89fa327E43CB06')), getAllATokens(symbol='aEthGHO', tokenAddress=Address('0x00907f9921424583e7ffBfEdf84F92B7B2Be4977')), getAllATokens(symbol='aEthRPL', tokenAddress=Address('0xB76CF92076adBF1D9C39294FA8e7A67579FDe357')), getAllATokens(symbol='aEthsDAI', tokenAddress=Address('0x4C612E3B15b96Ff9A6faED838F8d07d479a8dD4c')), getAllATokens(symbol='aEthSTG', tokenAddress=Address('0x1bA9843bD4327c6c77011406dE5fA8749F7E3479')), getAllATokens(symbol='aEthKNC', tokenAddress=Address('0x5b502e3796385E1e9755d7043B9C945C3aCCeC9C')), getAllATokens(symbol='aEthFXS', tokenAddress=Address('0x82F9c5ad306BBa1AD0De49bB5FA6F01bf61085ef')), getAllATokens(symbol='aEthcrvUSD', tokenAddress=Address('0xb82fa9f31612989525992FCfBB09AB22Eff5c85A')), getAllATokens(symbol='aEthPYUSD', tokenAddress=Address('0x0C0d01AbF3e6aDfcA0989eBbA9d6e85dD58EaB1E')), getAllATokens(symbol='aEthweETH', tokenAddress=Address('0xBdfa7b7893081B35Fb54027489e2Bc7A38275129')), getAllATokens(symbol='aEthosETH', tokenAddress=Address('0x927709711794F3De5DdBF1D176bEE2D55Ba13c21')), getAllATokens(symbol='aEthUSDe', tokenAddress=Address('0x4F5923Fc5FD4a93352581b38B7cD26943012DECF')), getAllATokens(symbol='aEthETHx', tokenAddress=Address('0x1c0E06a0b1A4c160c17545FF2A951bfcA57C0002')), getAllATokens(symbol='aEthsUSDe', tokenAddress=Address('0x4579a27aF00A62C0EB156349f31B345c08386419')), getAllATokens(symbol='aEthtBTC', tokenAddress=Address('0x10Ac93971cdb1F5c778144084242374473c350Da')), getAllATokens(symbol='aEthcbBTC', tokenAddress=Address('0x5c647cE0Ae10658ec44FA4E11A51c96e94efd1Dd')), getAllATokens(symbol='aEthUSDS', tokenAddress=Address('0x32a6268f9Ba3642Dda7892aDd74f1D34469A4259')), getAllATokens(symbol='aEthrsETH', tokenAddress=Address('0x2D62109243b87C4bA3EE7bA1D91B0dD0A074d7b1')), getAllATokens(symbol='aEthLBTC', tokenAddress=Address('0x65906988ADEe75306021C417a1A3458040239602'))]\n"
     ]
    }
   ],
   "source": [
    "\n",
    "config.reload()\n",
    "active_network = config.get_active_network()\n",
    "\n",
    "aave_protocol_data_provider = active_network.manifest_named(\"aave_protocol_data_provider\")\n",
    "a_tokens = aave_protocol_data_provider.getAllATokens()\n",
    "print(a_tokens)"
   ]
  },
  {
   "cell_type": "code",
   "execution_count": 9,
   "metadata": {},
   "outputs": [
    {
     "name": "stdout",
     "output_type": "stream",
     "text": [
      "<usdc interface at 0x98C23E9d8f34FEFb1B7BD6a91B7FF122F4e16F5c>\n",
      "<weth interface at 0x4d5F47FA6A74757f35C14fD3a6Ef8E3C9BC514E8>\n"
     ]
    }
   ],
   "source": [
    "for a_token in a_tokens:\n",
    "    if \"WETH\" in a_token[0]:\n",
    "        a_weth = active_network.manifest_named(\"weth\", address = a_token[1])\n",
    "    if \"USDC\" in a_token[0]:\n",
    "        a_usdc = active_network.manifest_named(\"usdc\", address = a_token[1])\n",
    "print(a_usdc)\n",
    "print(a_weth)"
   ]
  },
  {
   "cell_type": "code",
   "execution_count": 10,
   "metadata": {},
   "outputs": [
    {
     "name": "stdout",
     "output_type": "stream",
     "text": [
      "100.0\n",
      "1.0\n"
     ]
    }
   ],
   "source": [
    "# get how much tehy are worth , to figure out to figure out how much our portfolio worth\n",
    "\n",
    "a_usdc_balance = a_usdc.balanceOf(boa.env.eoa)\n",
    "a_weth_balance = a_weth.balanceOf(boa.env.eoa)\n",
    "\n",
    "a_usdc_balance_normalized = a_usdc_balance/ (1_000_000)\n",
    "a_weth_balance_normalized = a_weth_balance/ (1_000_000_000_000_000_000)\n",
    "\n",
    "print(a_usdc_balance_normalized)\n",
    "print(a_weth_balance_normalized)\n"
   ]
  },
  {
   "cell_type": "code",
   "execution_count": 11,
   "metadata": {},
   "outputs": [
    {
     "name": "stdout",
     "output_type": "stream",
     "text": [
      "0.99989\n",
      "1957.806\n"
     ]
    }
   ],
   "source": [
    "config.reload()\n",
    "\n",
    "def get_price(feed_name: str) -> float:\n",
    "    active_network = get_active_network()\n",
    "    price_feed = active_network.manifest_named(feed_name)\n",
    "    price = price_feed.latestAnswer()\n",
    "    decimals = price_feed.decimals()\n",
    "    decimals_normalized = 10 ** decimals\n",
    "    return price / decimals_normalized\n",
    "\n",
    "usdc_price = get_price(\"usdc_usd\")\n",
    "weth_price = get_price(\"eth_usd\")\n",
    "\n",
    "print(usdc_price)\n",
    "print(weth_price)"
   ]
  },
  {
   "cell_type": "code",
   "execution_count": 12,
   "metadata": {},
   "outputs": [
    {
     "name": "stdout",
     "output_type": "stream",
     "text": [
      "True\n",
      "0.04859036006988062\n",
      "0.9514096399301194\n"
     ]
    }
   ],
   "source": [
    "usdc_value = a_usdc_balance_normalized * usdc_price\n",
    "weth_value = a_weth_balance_normalized * weth_price\n",
    "total_value = usdc_value + weth_value\n",
    "\n",
    "target_usdc_value = 0.3\n",
    "target_weth_value = 0.7\n",
    "\n",
    "usdc_percent_allocation = usdc_value / total_value\n",
    "weth_percent_allocation = weth_value / total_value\n",
    "\n",
    "BUFFER = 0.1\n",
    "\n",
    "needs_rebalancing = (\n",
    "    abs(usdc_percent_allocation - target_usdc_value) > BUFFER or abs(weth_percent_allocation - target_weth_value) > BUFFER \n",
    ")\n",
    "print(needs_rebalancing)\n",
    "print(usdc_percent_allocation)\n",
    "print(weth_percent_allocation)"
   ]
  },
  {
   "cell_type": "code",
   "execution_count": 13,
   "metadata": {},
   "outputs": [
    {
     "name": "stdout",
     "output_type": "stream",
     "text": [
      "USDC balance: 0\n",
      "WETH balance: 1000000000000000000\n",
      "aUSDC balance: 100000000\n",
      "aWETH balance: 0\n"
     ]
    }
   ],
   "source": [
    "a_weth.approve(pool_contract.address, a_weth.balanceOf(boa.env.eoa))\n",
    "pool_contract.withdraw(weth.address, a_weth.balanceOf(boa.env.eoa), boa.env.eoa)\n",
    "\n",
    "def print_token_balance():\n",
    "    print(f\"USDC balance: {usdc.balanceOf(boa.env.eoa)}\")\n",
    "    print(f\"WETH balance: {weth.balanceOf(boa.env.eoa)}\")\n",
    "    print(f\"aUSDC balance: {a_usdc.balanceOf(boa.env.eoa)}\")\n",
    "    print(f\"aWETH balance: {a_weth.balanceOf(boa.env.eoa)}\")\n",
    "    \n",
    "print_token_balance()"
   ]
  },
  {
   "cell_type": "code",
   "execution_count": 14,
   "metadata": {},
   "outputs": [
    {
     "name": "stdout",
     "output_type": "stream",
     "text": [
      "{'usdc': {'contract': <usdc interface at 0xA0b86991c6218b36c1d19D4a2e9Eb0cE3606eB48>, 'trade': 517.4064147056175}, 'weth': {'contract': <weth interface at 0xC02aaA39b223FE8D0A0e5C4F27eAD9083C756Cc2>, 'trade': -0.26424962432437127}}\n"
     ]
    }
   ],
   "source": [
    "usdc_data = {\"balance\":a_usdc_balance_normalized , \"price\":usdc_price , \"contract\":usdc}\n",
    "weth_data = {\"balance\":a_weth_balance_normalized , \"price\":weth_price , \"contract\":weth}\n",
    "target_allocations = {\"usdc\": 0.3, \"weth\": 0.7}\n",
    "\n",
    "\n",
    "def calculate_rebalancing_trades(\n",
    "    usdc_data: dict,  # {\"balance\": float, \"price\": float, \"contract\": Contract}\n",
    "    weth_data: dict,  # {\"balance\": float, \"price\": float, \"contract\": Contract}\n",
    "    target_allocations: dict[str, float],  # {\"usdc\": 0.3, \"weth\": 0.7}\n",
    ") -> dict[str, dict]:\n",
    "    \"\"\"\n",
    "    Calculate the trades needed to rebalance a portfolio of USDC and WETH.\n",
    "\n",
    "    Args:\n",
    "        usdc_data: Dict containing USDC balance, price and contract\n",
    "        weth_data: Dict containing WETH balance, price and contract\n",
    "        target_allocations: Dict of token symbol to target allocation (must sum to 1)\n",
    "\n",
    "    Returns:\n",
    "        Dict of token symbol to dict containing contract and trade amount:\n",
    "            {\"usdc\": {\"contract\": Contract, \"trade\": int},\n",
    "             \"weth\": {\"contract\": Contract, \"trade\": int}}\n",
    "    \"\"\"\n",
    "    # Calculate current values\n",
    "    usdc_value = usdc_data[\"balance\"] * usdc_data[\"price\"]\n",
    "    weth_value = weth_data[\"balance\"] * weth_data[\"price\"]\n",
    "    total_value = usdc_value + weth_value\n",
    "\n",
    "    # Calculate target values\n",
    "    target_usdc_value = total_value * target_allocations[\"usdc\"]\n",
    "    target_weth_value = total_value * target_allocations[\"weth\"]\n",
    "\n",
    "    # Calculate trades needed in USD\n",
    "    usdc_trade_usd = target_usdc_value - usdc_value\n",
    "    weth_trade_usd = target_weth_value - weth_value\n",
    "\n",
    "    # Convert to token amounts\n",
    "    return {\n",
    "        \"usdc\": {\n",
    "            \"contract\": usdc_data[\"contract\"],\n",
    "            \"trade\": usdc_trade_usd / usdc_data[\"price\"],\n",
    "        },\n",
    "        \"weth\": {\n",
    "            \"contract\": weth_data[\"contract\"],\n",
    "            \"trade\": weth_trade_usd / weth_data[\"price\"],\n",
    "        },\n",
    "    }\n",
    "trades = calculate_rebalancing_trades(usdc_data, weth_data , target_allocations)\n",
    "print(trades)\n",
    "\n",
    "weth_to_sell  = trades[\"weth\"][\"trade\"]"
   ]
  },
  {
   "cell_type": "code",
   "execution_count": 15,
   "metadata": {},
   "outputs": [
    {
     "name": "stdout",
     "output_type": "stream",
     "text": [
      "264249624324371264\n",
      "Let swap\n",
      "USDC balance: 515251281\n",
      "WETH balance: 735750375675628736\n",
      "aUSDC balance: 100000000\n",
      "aWETH balance: 0\n"
     ]
    }
   ],
   "source": [
    "config.reload()\n",
    "active_network = config.get_active_network()\n",
    "\n",
    "uniswap_swap_router = active_network.manifest_named(\"uniswap_swap_router\")\n",
    "\n",
    "amount_weth = abs(int(weth_to_sell * (10 ** 18)))\n",
    "print(amount_weth)\n",
    "weth.approve(uniswap_swap_router.address, amount_weth)\n",
    "\n",
    "min_out = abs(int((trades[\"usdc\"][\"trade\"] * (10**6)) * 0.90))\n",
    "print(\"Let swap\")\n",
    "uniswap_swap_router.exactInputSingle(\n",
    "    (\n",
    "        weth.address,\n",
    "        usdc.address, \n",
    "        3000,\n",
    "        boa.env.eoa,\n",
    "        amount_weth,\n",
    "        min_out,\n",
    "        0\n",
    "    )\n",
    ")\n",
    "\n",
    "print_token_balance()"
   ]
  },
  {
   "cell_type": "code",
   "execution_count": 16,
   "metadata": {},
   "outputs": [
    {
     "name": "stdout",
     "output_type": "stream",
     "text": [
      "Depositing USD Coin into Aave contract 0x87870Bca3F3fD6335C3F4ce8392D69350B4fA4E2\n"
     ]
    }
   ],
   "source": [
    "amount = usdc.balanceOf(boa.env.eoa)\n",
    "deposit(pool_contract, usdc, amount)\n"
   ]
  },
  {
   "cell_type": "code",
   "execution_count": 17,
   "metadata": {},
   "outputs": [
    {
     "name": "stdout",
     "output_type": "stream",
     "text": [
      "Depositing Wrapped Ether into Aave contract 0x87870Bca3F3fD6335C3F4ce8392D69350B4fA4E2\n",
      "USDC balance: 0\n",
      "WETH balance: 0\n",
      "aUSDC balance: 615251281\n",
      "aWETH balance: 735750375675628736\n",
      "ausdc balance 615251281\n",
      "a_weth balance 735750375675628736\n",
      "615.18360335909\n",
      "1440.4565\n",
      "current percent allocation of USDC:0.2992662005152691\n",
      "current percent allocation of WETH:0.7007337994847308\n"
     ]
    }
   ],
   "source": [
    "\n",
    "amount = weth.balanceOf(boa.env.eoa)\n",
    "deposit(pool_contract, weth, amount)\n",
    "\n",
    "print_token_balance()\n",
    "\n",
    "a_usdc_balance= a_usdc.balanceOf(boa.env.eoa)\n",
    "a_weth_balance= a_weth.balanceOf(boa.env.eoa)\n",
    "\n",
    "print(f\"ausdc balance {a_usdc_balance}\")\n",
    "print(f\"a_weth balance {a_weth_balance}\")\n",
    "\n",
    "a_usdc_balance_normalized = a_usdc_balance / (1_000_000)\n",
    "a_weth_balance_normalized = a_weth_balance / (1_000_000_000_000_000_000)\n",
    "\n",
    "usdc_value = a_usdc_balance_normalized * usdc_price\n",
    "weth_value = a_weth_balance_normalized * weth_price\n",
    "\n",
    "print(usdc_value)\n",
    "print(weth_value)\n",
    "›\n",
    "weth_percent_allocation = weth_value / (usdc_value + weth_value)\n",
    "usdc_percent_allocation = usdc_value / (usdc_value + weth_value)\n",
    "\n",
    "print(f\"current percent allocation of USDC:{usdc_percent_allocation}\")\n",
    "print(f\"current percent allocation of WETH:{weth_percent_allocation}\")"
   ]
  }
 ],
 "metadata": {
  "kernelspec": {
   "display_name": "Python 3",
   "language": "python",
   "name": "python3"
  },
  "language_info": {
   "codemirror_mode": {
    "name": "ipython",
    "version": 3
   },
   "file_extension": ".py",
   "mimetype": "text/x-python",
   "name": "python",
   "nbconvert_exporter": "python",
   "pygments_lexer": "ipython3",
   "version": "3.12.9"
  }
 },
 "nbformat": 4,
 "nbformat_minor": 2
}
