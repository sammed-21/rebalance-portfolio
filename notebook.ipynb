{
 "cells": [
  {
   "cell_type": "code",
   "execution_count": 1,
   "metadata": {},
   "outputs": [],
   "source": [
    "from moccasin import setup_notebook\n",
    "\n",
    "setup_notebook()"
   ]
  },
  {
   "cell_type": "code",
   "execution_count": 3,
   "metadata": {},
   "outputs": [
    {
     "name": "stdout",
     "output_type": "stream",
     "text": [
      "eth-forked\n"
     ]
    }
   ],
   "source": [
    "from moccasin.config import get_active_network\n",
    "\n",
    "active_network = get_active_network()\n",
    "print(active_network.name)\n"
   ]
  },
  {
   "cell_type": "code",
   "execution_count": 7,
   "metadata": {},
   "outputs": [
    {
     "name": "stdout",
     "output_type": "stream",
     "text": [
      "0xf39Fd6e51aad88F6F4ce6aB8827279cffFb92266 this is the address\n",
      "hello\n",
      "Starting setup script...\n",
      "Starting balance of WETH: 1000000000000000000\n",
      "Starting balance of USDC: 100000000\n",
      "mint the usdc\n",
      "Ending balance of WETH: 2000000000000000000\n",
      "Ending balance of USDC: 200000000\n"
     ]
    }
   ],
   "source": [
    "from boa.contracts.abi.abi_contract import ABIContract\n",
    "from typing import Tuple\n",
    "from moccasin.config import get_active_network\n",
    "import boa\n",
    "\n",
    "STARTING_ETH_BALANCE = int(1000e18)\n",
    "STARTING_WETH_BALANCE = int(1e18)\n",
    "STARTING_USDC_BALANCE = int(100e6)\n",
    "\n",
    "def _add_eth_balance():\n",
    "    boa.env.set_balance(boa.env.eoa, STARTING_ETH_BALANCE)\n",
    "    \n",
    "def _add_token_balance(usdc, weth):\n",
    "    print(f\"Starting balance of WETH: {weth.balanceOf(boa.env.eoa)}\")\n",
    "    print(f\"Starting balance of USDC: {usdc.balanceOf(boa.env.eoa)}\")\n",
    "    weth.deposit(value = STARTING_WETH_BALANCE)\n",
    "    our_address = boa.env.eoa\n",
    "    with boa.env.prank(usdc.owner()):\n",
    "        usdc.updateMasterMinter(our_address)\n",
    "    usdc.configureMinter(\n",
    "        our_address, STARTING_USDC_BALANCE\n",
    "    )\n",
    "    print(\"mint the usdc\")\n",
    "    usdc.mint(our_address, STARTING_USDC_BALANCE)\n",
    "    print(f\"Ending balance of WETH: {weth.balanceOf(boa.env.eoa)}\")\n",
    "    print(f\"Ending balance of USDC: {usdc.balanceOf(boa.env.eoa)}\")\n",
    "\n",
    "def setup_script() -> Tuple[ABIContract,ABIContract,ABIContract,ABIContract]:\n",
    "    print(\"Starting setup script...\")\n",
    "    \n",
    "    #1. Give ourselves some ETH\n",
    "    #2. Give ourselves some USDC and WETH\n",
    "    active_network = get_active_network()\n",
    "    \n",
    "    usdc = active_network.manifest_named(\"usdc\")\n",
    "    weth = active_network.manifest_named(\"weth\")\n",
    "    \n",
    "    if active_network.is_local_or_forked_network():\n",
    "        _add_eth_balance()\n",
    "        _add_token_balance(usdc, weth)\n",
    "        \n",
    "    \n",
    "def moccasin_main():\n",
    "    our_address = boa.env.eoa\n",
    "    print(our_address,\"this is the address\")\n",
    "    print(\"hello\")\n",
    "    setup_script()\n",
    "    \n",
    "moccasin_main()"
   ]
  },
  {
   "cell_type": "code",
   "execution_count": 9,
   "metadata": {},
   "outputs": [],
   "source": [
    "usdc = active_network.manifest_named(\"usdc\")\n",
    "weth = active_network.manifest_named(\"weth\")\n",
    "\n"
   ]
  },
  {
   "cell_type": "code",
   "execution_count": 12,
   "metadata": {},
   "outputs": [
    {
     "data": {
      "text/plain": [
       "2000000000000000000"
      ]
     },
     "execution_count": 12,
     "metadata": {},
     "output_type": "execute_result"
    }
   ],
   "source": [
    "usdc.balanceOf(boa.env.eoa)\n",
    "weth.balanceOf(boa.env.eoa)"
   ]
  }
 ],
 "metadata": {
  "kernelspec": {
   "display_name": "Python 3",
   "language": "python",
   "name": "python3"
  },
  "language_info": {
   "codemirror_mode": {
    "name": "ipython",
    "version": 3
   },
   "file_extension": ".py",
   "mimetype": "text/x-python",
   "name": "python",
   "nbconvert_exporter": "python",
   "pygments_lexer": "ipython3",
   "version": "3.12.9"
  }
 },
 "nbformat": 4,
 "nbformat_minor": 2
}
